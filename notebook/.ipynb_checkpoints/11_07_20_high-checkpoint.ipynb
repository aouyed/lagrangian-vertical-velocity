{
 "cells": [
  {
   "cell_type": "code",
   "execution_count": 1,
   "metadata": {},
   "outputs": [
    {
     "name": "stderr",
     "output_type": "stream",
     "text": [
      "/Users/aouyed/anaconda3/lib/python3.7/site-packages/dask/config.py:168: YAMLLoadWarning: calling yaml.load() without Loader=... is deprecated, as the default Loader is unsafe. Please read https://msg.pyyaml.org/load for full details.\n",
      "  data = yaml.load(f.read()) or {}\n",
      "/Users/aouyed/anaconda3/lib/python3.7/site-packages/distributed/config.py:20: YAMLLoadWarning: calling yaml.load() without Loader=... is deprecated, as the default Loader is unsafe. Please read https://msg.pyyaml.org/load for full details.\n",
      "  defaults = yaml.load(f)\n"
     ]
    },
    {
     "name": "stdout",
     "output_type": "stream",
     "text": [
      "<xarray.Dataset>\n",
      "Dimensions:  (lat: 721, lev: 42, lon: 1152, time: 1)\n",
      "Coordinates:\n",
      "  * lon      (lon) float64 -180.0 -179.7 -179.4 -179.1 ... 179.1 179.4 179.7\n",
      "  * lat      (lat) float64 -90.0 -89.75 -89.5 -89.25 ... 89.25 89.5 89.75 90.0\n",
      "  * lev      (lev) float64 1e+03 975.0 950.0 925.0 900.0 ... 0.7 0.5 0.4 0.3 0.1\n",
      "  * time     (time) datetime64[ns] 2020-11-30T18:00:00\n",
      "Data variables:\n",
      "    EPV      (time, lev, lat, lon) float32 ...\n",
      "    H        (time, lev, lat, lon) float32 ...\n",
      "    O3       (time, lev, lat, lon) float32 ...\n",
      "    OMEGA    (time, lev, lat, lon) float32 ...\n",
      "    PHIS     (time, lat, lon) float32 ...\n",
      "    PS       (time, lat, lon) float32 ...\n",
      "    QI       (time, lev, lat, lon) float32 ...\n",
      "    QL       (time, lev, lat, lon) float32 ...\n",
      "    QR       (time, lev, lat, lon) float32 ...\n",
      "    QS       (time, lev, lat, lon) float32 ...\n",
      "    QV       (time, lev, lat, lon) float32 ...\n",
      "    RH       (time, lev, lat, lon) float32 ...\n",
      "    SLP      (time, lat, lon) float32 ...\n",
      "    T        (time, lev, lat, lon) float32 ...\n",
      "    U        (time, lev, lat, lon) float32 ...\n",
      "    V        (time, lev, lat, lon) float32 ...\n",
      "Attributes:\n",
      "    Title:        3d,3-Hourly,Instantaneous,Pressure-Level,Forecast Fields (w...\n",
      "    History:      File written by MAPL_CFIO\n",
      "    Source:       GEOSadas-5_25_1_p9_OPS\n",
      "    Contact:      http://gmao.gsfc.nasa.gov\n",
      "    Conventions:  CF\n",
      "    Institution:  NASA Global Modeling and Assimilation Office\n",
      "    References:   see MAPL documentation\n",
      "    Filename:     GEOS.fp.fcst.inst3_3d_asm_Np.20201130_18+20201130_1800.V01.nc4\n",
      "    Comment:      NetCDF-4\n"
     ]
    }
   ],
   "source": [
    "import xarray as xr\n",
    "import matplotlib.pyplot as plt\n",
    "\n",
    "#ds_m=xr.open_dataset('../data/GEOS.fp.fcst.inst3_3d_asm_Np.20201104_18+20201104_1800.V01.nc4')\n",
    "#ds_s=xr.open_dataset('../data/G16V04.0.ACTIV.2020309.1801.PX.02K.NC')\n",
    "#ds_s0=xr.open_dataset('../data/G16V04.0.ACTIV.2020309.1731.PX.02K.NC')\n",
    "\n",
    "ds_m=xr.open_dataset('../data/GEOS.fp.fcst.inst3_3d_asm_Np.20201130_18+20201130_1800.V01.nc4')\n",
    "ds_s=xr.open_dataset('../data/G16V04.0.ACTIV.2020335.1801.PX.02K.NC')\n",
    "ds_s0=xr.open_dataset('../data/G16V04.0.ACTIV.2020335.1731.PX.02K.NC')\n",
    "ds_s['cloud_top_height_0']=ds_s0['cloud_top_height'].copy()\n",
    "#ds_s0['image_y']=abs(ds_s0['image_y']-800)\n",
    "\n",
    "print(ds_m)"
   ]
  },
  {
   "cell_type": "code",
   "execution_count": 2,
   "metadata": {},
   "outputs": [
    {
     "name": "stderr",
     "output_type": "stream",
     "text": [
      "/Users/aouyed/anaconda3/lib/python3.7/site-packages/ipykernel_launcher.py:3: DeprecationWarning: np.asscalar(a) is deprecated since NumPy v1.16, use a.item() instead\n",
      "  This is separate from the ipykernel package so we can avoid doing imports until\n",
      "/Users/aouyed/anaconda3/lib/python3.7/site-packages/ipykernel_launcher.py:4: DeprecationWarning: np.asscalar(a) is deprecated since NumPy v1.16, use a.item() instead\n",
      "  after removing the cwd from sys.path.\n",
      "/Users/aouyed/anaconda3/lib/python3.7/site-packages/ipykernel_launcher.py:5: DeprecationWarning: np.asscalar(a) is deprecated since NumPy v1.16, use a.item() instead\n",
      "  \"\"\"\n",
      "/Users/aouyed/anaconda3/lib/python3.7/site-packages/ipykernel_launcher.py:6: DeprecationWarning: np.asscalar(a) is deprecated since NumPy v1.16, use a.item() instead\n",
      "  \n",
      "/Users/aouyed/anaconda3/lib/python3.7/site-packages/ipykernel_launcher.py:7: DeprecationWarning: np.asscalar(a) is deprecated since NumPy v1.16, use a.item() instead\n",
      "  import sys\n",
      "/Users/aouyed/anaconda3/lib/python3.7/site-packages/ipykernel_launcher.py:8: DeprecationWarning: np.asscalar(a) is deprecated since NumPy v1.16, use a.item() instead\n",
      "  \n"
     ]
    }
   ],
   "source": [
    "import numpy as np\n",
    "\n",
    "lat_min=np.asscalar(ds_s['latitude'].min())\n",
    "lat_max=np.asscalar(ds_s['latitude'].max())\n",
    "lon_min=np.asscalar(ds_s['longitude'].min())\n",
    "lon_max=np.asscalar(ds_s['longitude'].max())\n",
    "z_max=np.asscalar(ds_s['cloud_top_pressure'].max())\n",
    "z_min=np.asscalar(ds_s['cloud_top_pressure'].min())"
   ]
  },
  {
   "cell_type": "code",
   "execution_count": 3,
   "metadata": {},
   "outputs": [],
   "source": [
    "#ds_m_unit=ds_m.loc[dict(lat=slice(lat_min, lat_max))].copy()\n",
    "#ds_m_unit=ds_m_unit.loc[dict(lon=slice(lon_min, lon_max))].copy()\n",
    "#ds_m_unit=ds_m_unit.loc[dict(lev=slice(z_max, z_min))].copy()\n",
    "ds_m_unit=ds_m.drop('time')"
   ]
  },
  {
   "cell_type": "code",
   "execution_count": null,
   "metadata": {},
   "outputs": [],
   "source": [
    "from scipy.interpolate import RegularGridInterpolator as rgi\n",
    "import numpy as np\n",
    "v_function=rgi(points=(1000-ds_m_unit['lev'].values, ds_m_unit['lat'].values, ds_m_unit['lon'].values),values= np.squeeze(ds_m_unit['V'].values),bounds_error=False, fill_value=np.nan)\n",
    "u_function=rgi(points=(1000-ds_m_unit['lev'].values, ds_m_unit['lat'].values, ds_m_unit['lon'].values),values= np.squeeze(ds_m_unit['U'].values),bounds_error=False, fill_value=np.nan)\n",
    "t_function=rgi(points=(1000-ds_m_unit['lev'].values, ds_m_unit['lat'].values, ds_m_unit['lon'].values),values= np.squeeze(ds_m_unit['T'].values),bounds_error=False, fill_value=np.nan)\n",
    "\n",
    "omega_function=rgi(points=(1000-ds_m_unit['lev'].values, ds_m_unit['lat'].values, ds_m_unit['lon'].values),values= np.squeeze(ds_m_unit['OMEGA'].values),bounds_error=False, fill_value=np.nan)"
   ]
  },
  {
   "cell_type": "code",
   "execution_count": null,
   "metadata": {},
   "outputs": [
    {
     "name": "stdout",
     "output_type": "stream",
     "text": [
      "hello\n",
      "890.82825\n"
     ]
    },
    {
     "name": "stderr",
     "output_type": "stream",
     "text": [
      "/Users/aouyed/anaconda3/lib/python3.7/site-packages/scipy/interpolate/interpolate.py:2539: RuntimeWarning: invalid value encountered in less\n",
      "  out_of_bounds += x < grid[0]\n",
      "/Users/aouyed/anaconda3/lib/python3.7/site-packages/scipy/interpolate/interpolate.py:2540: RuntimeWarning: invalid value encountered in greater\n",
      "  out_of_bounds += x > grid[-1]\n"
     ]
    }
   ],
   "source": [
    "import metpy.calc\n",
    "from metpy.units import units\n",
    "\n",
    "print('hello')\n",
    "df=ds_s[['cloud_top_pressure','cloud_top_height','cloud_top_height_0']].to_dataframe().reset_index()\n",
    "#df=df.dropna()\n",
    "#df=df[(df.cloud_top_pressure > 700) & (df.cloud_top_pressure <1000)]\n",
    "df['cloud_top_pressure']=1000-df['cloud_top_pressure']\n",
    "df['cloud_top_height']=1000*df['cloud_top_height']\n",
    "df['cloud_top_height_0']=1000*df['cloud_top_height_0']\n",
    "print(df['cloud_top_pressure'].max())\n",
    "df['u']=u_function(df[['cloud_top_pressure','latitude', 'longitude']].values)\n",
    "df['v']=v_function(df[['cloud_top_pressure','latitude', 'longitude']].values)\n",
    "df['omega']=omega_function(df[['cloud_top_pressure','latitude', 'longitude']].values)\n",
    "df['t']=t_function(df[['cloud_top_pressure','latitude', 'longitude']].values)\n",
    "\n",
    "omega=df['omega'].to_numpy()*units('Pa/s')\n",
    "pressure=df['cloud_top_pressure'].to_numpy()*units('hPa')\n",
    "t=df['t'].to_numpy()*units('K')\n",
    "df['w']=metpy.calc.vertical_velocity(omega, pressure, t )\n",
    "\n",
    "df['cloud_top_pressure']=-df['cloud_top_pressure']+1000\n",
    "df=df.set_index(['image_x', 'image_y'])\n"
   ]
  },
  {
   "cell_type": "code",
   "execution_count": null,
   "metadata": {},
   "outputs": [
    {
     "name": "stderr",
     "output_type": "stream",
     "text": [
      "/Users/aouyed/anaconda3/lib/python3.7/site-packages/metpy/calc/tools.py:850: RuntimeWarning: invalid value encountered in less\n",
      "  dy[(forward_az < -90.) | (forward_az > 90.)] *= -1\n",
      "/Users/aouyed/anaconda3/lib/python3.7/site-packages/metpy/calc/tools.py:850: RuntimeWarning: invalid value encountered in greater\n",
      "  dy[(forward_az < -90.) | (forward_az > 90.)] *= -1\n",
      "/Users/aouyed/anaconda3/lib/python3.7/site-packages/metpy/calc/tools.py:854: RuntimeWarning: invalid value encountered in less\n",
      "  dx[(forward_az < 0.) | (forward_az > 180.)] *= -1\n",
      "/Users/aouyed/anaconda3/lib/python3.7/site-packages/metpy/calc/tools.py:854: RuntimeWarning: invalid value encountered in greater\n",
      "  dx[(forward_az < 0.) | (forward_az > 180.)] *= -1\n"
     ]
    }
   ],
   "source": [
    "import metpy.calc as mpcalc\n",
    "import cv2\n",
    "from metpy.units import units\n",
    "\n",
    "ds_inter=xr.Dataset.from_dataframe(df)\n",
    "ds_inter['tendency']=(ds_inter['cloud_top_height']-ds_inter['cloud_top_height_0'])/1800\n",
    "ds_inter['image_y']=abs(ds_inter['image_y']-800)\n",
    "dx, dy = mpcalc.lat_lon_grid_deltas(ds_inter['latitude'].values, ds_inter['longitude'].values)\n",
    "gradz=mpcalc.gradient(ds_inter['cloud_top_height'].values, deltas=(dy, dx))\n",
    "gradz_y=gradz[0].magnitude\n",
    "gradz_x=gradz[1].magnitude\n",
    "ds_inter['gradz_y']=(('image_x','image_y'),gradz_y)\n",
    "ds_inter['gradz_x']=(('image_x','image_y'),gradz_x)\n",
    "ds_inter['transport']=ds_inter['u']*ds_inter['gradz_x'] + ds_inter['v']*ds_inter['gradz_y']\n",
    "ds_inter['entrainment']=ds_inter['transport'] + ds_inter['omega']\n",
    "mask2=np.isnan(ds_inter['cloud_top_pressure'].values)\n",
    "mask = np.ma.masked_invalid(ds_inter['cloud_top_pressure'].values)\n",
    "mask = np.uint8(mask.mask)\n",
    "frame=np.nan_to_num(ds_inter['cloud_top_pressure'].values)\n",
    "frame = cv2.inpaint(frame, mask, inpaintRadius=10, flags=cv2.INPAINT_NS)\n",
    "blurred=cv2.blur(frame, (10,10))\n",
    "blurred[mask2]=np.nan            \n",
    "gradz=mpcalc.gradient(blurred, deltas=(dy, dx))\n",
    "gradz_y=gradz[0].magnitude\n",
    "gradz_x=gradz[1].magnitude\n",
    "\n",
    "mask2=np.isnan(ds_inter['w'].values)\n",
    "mask = np.ma.masked_invalid(ds_inter['w'].values)\n",
    "mask = np.uint8(mask.mask)\n",
    "frame=np.nan_to_num(ds_inter['w'].values)\n",
    "frame=frame.astype(np.float32)\n",
    "frame = cv2.inpaint(frame, mask, inpaintRadius=10, flags=cv2.INPAINT_NS)\n",
    "blurred=cv2.blur(frame, (10,10))\n",
    "blurred[mask2]=np.nan \n",
    "wf=blurred\n",
    "\n",
    "mask2=np.isnan(ds_inter['tendency'].values)\n",
    "mask = np.ma.masked_invalid(ds_inter['tendency'].values)\n",
    "mask = np.uint8(mask.mask)\n",
    "frame=np.nan_to_num(ds_inter['tendency'].values)\n",
    "frame=frame.astype(np.float32)\n",
    "frame = cv2.inpaint(frame, mask, inpaintRadius=10, flags=cv2.INPAINT_NS)\n",
    "blurred=cv2.blur(frame, (10,10))\n",
    "blurred[mask2]=np.nan \n",
    "tendency=blurred\n",
    "\n",
    "ds_inter['tendencyf']=(('image_x','image_y'),tendency)\n",
    "ds_inter['wf']=(('image_x','image_y'),wf)\n",
    "ds_inter['gradz_yf']=(('image_x','image_y'),gradz_y)\n",
    "ds_inter['gradz_xf']=(('image_x','image_y'),gradz_x)\n",
    "ds_inter['transportf']=ds_inter['u']*ds_inter['gradz_xf'] + ds_inter['v']*ds_inter['gradz_yf']\n",
    "ds_inter['entrainmentf']=ds_inter['transportf'] + ds_inter['omega']\n",
    "ds_inter=ds_inter.transpose(\"image_y\", \"image_x\")\n",
    "print(ds_inter)\n"
   ]
  },
  {
   "cell_type": "code",
   "execution_count": null,
   "metadata": {},
   "outputs": [],
   "source": [
    "import matplotlib.pyplot as plt\n",
    "ds_inter['omega'].plot.hist(bins=100)\n",
    "plt.show()\n",
    "plt.close()\n",
    "ds_inter['transport'].plot.hist(bins=100)\n",
    "plt.show()\n",
    "plt.close()\n",
    "ds_inter['cloud_top_height'].plot.hist(bins=100)\n",
    "plt.show()\n",
    "plt.close()\n",
    "ds_inter['gradz_x'].plot.hist(bins=100)\n",
    "plt.show()\n",
    "plt.close()\n",
    "ds_inter['gradz_y'].plot.hist(bins=100)\n",
    "plt.show()\n",
    "plt.close()\n",
    "ds_inter['gradz_yf'].plot.hist(bins=100)\n",
    "plt.show()\n",
    "plt.close()\n",
    "ds_inter['v'].plot.hist(bins=100)\n",
    "plt.show()\n",
    "plt.close()\n",
    "ds_inter['u'].plot.hist(bins=100)\n",
    "plt.show()\n",
    "plt.close()\n",
    "ds_inter['omega'].plot.hist(bins=100)\n",
    "plt.show()\n",
    "plt.close()\n",
    "ds_inter['w'].plot.hist(bins=1000)\n",
    "plt.xlim(-2,2)\n",
    "plt.show()\n",
    "plt.close()\n",
    "ds_inter['wf'].plot.hist(bins=1000)\n",
    "plt.xlim(-2,2)\n",
    "plt.show()\n",
    "plt.close()\n",
    "ds_inter['transportf'].plot.hist(bins=1000)\n",
    "plt.show()\n",
    "plt.close()\n",
    "ds_inter['t'].plot.hist(bins=1000)\n",
    "plt.show()\n",
    "plt.close()\n",
    "ds_inter['cloud_top_pressure'].plot.hist(bins=1000)\n",
    "plt.show()\n",
    "plt.close()\n",
    "ds_inter['tendency'].plot.hist(bins=1000)\n",
    "plt.show()\n",
    "plt.close()\n",
    "ds_inter['tendencyf'].plot.hist(bins=1000)\n",
    "plt.show()\n",
    "plt.close()"
   ]
  },
  {
   "cell_type": "code",
   "execution_count": null,
   "metadata": {},
   "outputs": [],
   "source": [
    "ds_inter['gradz_xf'].plot.imshow(vmin=-0.01, vmax=0.02)\n"
   ]
  },
  {
   "cell_type": "code",
   "execution_count": null,
   "metadata": {},
   "outputs": [],
   "source": [
    "ds_inter['gradz_x'].plot.imshow(vmin=-0.01, vmax=0.01)\n"
   ]
  },
  {
   "cell_type": "code",
   "execution_count": null,
   "metadata": {},
   "outputs": [],
   "source": [
    "ds_inter['cloud_top_height'].plot.imshow()\n"
   ]
  },
  {
   "cell_type": "code",
   "execution_count": null,
   "metadata": {},
   "outputs": [],
   "source": [
    "ds_inter['w'].plot.imshow(vmin=-0.5, vmax=0.5)\n"
   ]
  },
  {
   "cell_type": "code",
   "execution_count": null,
   "metadata": {},
   "outputs": [],
   "source": [
    "ds_inter['wf'].plot.imshow(vmin=-0.5, vmax=0.5)"
   ]
  },
  {
   "cell_type": "code",
   "execution_count": null,
   "metadata": {},
   "outputs": [],
   "source": [
    "ds_s['image_y']=abs(ds_s['image_y']-800)\n"
   ]
  },
  {
   "cell_type": "code",
   "execution_count": null,
   "metadata": {},
   "outputs": [],
   "source": []
  },
  {
   "cell_type": "code",
   "execution_count": null,
   "metadata": {},
   "outputs": [],
   "source": []
  },
  {
   "cell_type": "code",
   "execution_count": null,
   "metadata": {},
   "outputs": [],
   "source": [
    "ds_inter['tendency'].plot.imshow(vmin=-1, vmax=3)"
   ]
  },
  {
   "cell_type": "code",
   "execution_count": null,
   "metadata": {},
   "outputs": [],
   "source": [
    "ds_inter['tendencyf'].plot.imshow(vmin=-1, vmax=1)"
   ]
  },
  {
   "cell_type": "code",
   "execution_count": null,
   "metadata": {},
   "outputs": [],
   "source": [
    "ds_inter['we']=ds_inter['tendency']+ds_inter['transport']-ds_inter['w']\n",
    "ds_inter['wef']=ds_inter['tendency']+ds_inter['transportf']-ds_inter['wf']"
   ]
  },
  {
   "cell_type": "code",
   "execution_count": null,
   "metadata": {},
   "outputs": [],
   "source": [
    "ds_inter['wef'].plot.hist(bins=1000)\n",
    "plt.xlim(-10,10)"
   ]
  },
  {
   "cell_type": "code",
   "execution_count": null,
   "metadata": {},
   "outputs": [],
   "source": [
    "ds_inter['wef'].plot.imshow(vmin=-1, vmax=1)"
   ]
  },
  {
   "cell_type": "code",
   "execution_count": null,
   "metadata": {},
   "outputs": [],
   "source": []
  }
 ],
 "metadata": {
  "kernelspec": {
   "display_name": "Python 3",
   "language": "python",
   "name": "python3"
  },
  "language_info": {
   "codemirror_mode": {
    "name": "ipython",
    "version": 3
   },
   "file_extension": ".py",
   "mimetype": "text/x-python",
   "name": "python",
   "nbconvert_exporter": "python",
   "pygments_lexer": "ipython3",
   "version": "3.7.3"
  }
 },
 "nbformat": 4,
 "nbformat_minor": 2
}
