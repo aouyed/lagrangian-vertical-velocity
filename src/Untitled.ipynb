{
 "cells": [
  {
   "cell_type": "code",
   "execution_count": null,
   "id": "53cb5529-4b01-4c06-a8b4-44f6dd38ee81",
   "metadata": {},
   "outputs": [],
   "source": [
    "\n",
    "from keras.models import Sequential\n",
    "from keras.layers import Conv2D, MaxPooling2D, Flatten, Dense\n",
    "\n",
    "\n",
    "from keras.models import Sequential\n",
    "from keras.layers import Conv2D, MaxPooling2D, Flatten, Dense\n",
    "import xarray as xr\n",
    "import numpy as np\n",
    "import pandas as pd\n"
   ]
  },
  {
   "cell_type": "code",
   "execution_count": null,
   "id": "3821a936-64d2-4901-aed8-66eecb642622",
   "metadata": {},
   "outputs": [],
   "source": [
    "import cnn_utils "
   ]
  },
  {
   "cell_type": "code",
   "execution_count": null,
   "id": "188e9f6e-cd3d-4f17-b63b-763672f8e0b4",
   "metadata": {},
   "outputs": [],
   "source": [
    "def initialize_model(input_shape):\n",
    "\n",
    "# Initialize the CNN model\n",
    "    model = Sequential()\n",
    "    \n",
    "    # Add convolutional layers\n",
    "    model.add(Conv2D(32, kernel_size=(3, 3), activation='relu', input_shape=input_shape))\n",
    "    model.add(MaxPooling2D(pool_size=(2, 2)))\n",
    "    model.add(Conv2D(64, kernel_size=(3, 3), activation='relu'))\n",
    "    model.add(MaxPooling2D(pool_size=(2, 2)))\n",
    "    \n",
    "    # Flatten the 2D feature maps into a 1D feature vector\n",
    "    model.add(Flatten())\n",
    "    \n",
    "    # Add dense layers for regression\n",
    "    model.add(Dense(128, activation='relu'))\n",
    "    model.add(Dense(18, activation='linear'))  # Output layer with linear activation for regression\n",
    "    \n",
    "    # Compile the model\n",
    "    model.compile(loss='mean_squared_error', optimizer='adam', metrics=['mse'])\n",
    "    \n",
    "    # Print the model summary\n",
    "    model.summary()\n",
    "    return model"
   ]
  },
  {
   "cell_type": "code",
   "execution_count": null,
   "id": "89e890ba-c326-4240-af2b-e76b10fed515",
   "metadata": {},
   "outputs": [],
   "source": [
    "\n",
    "ds_swe=xr.open_dataset('../data/raw/PRISM_UA_data_broxon.nc')\n",
    "dates = pd.to_datetime( pd.DataFrame({'year': ds_swe['Year'].values, 'month': ds_swe['Month'].values, 'day':15}))\n",
    "ds_swe=ds_swe.assign_coords(time=dates.values)\n",
    "ds_swe=ds_swe.rename({'watershed':'basin'})\n",
    "ds_swe=cnn_utils.normalize_ds(ds_swe)\n",
    "ds_swe, ds_sst=cnn_utils.align_lead_time(ds_swe, ds_sst, 1, 1)\n",
    "\n",
    "\n",
    "x=ds_sst['tempanomaly'].values\n",
    "x=np.expand_dims(x, axis=3)\n",
    "x=np.nan_to_num(x)\n",
    "y=ds_swe['SWE_anom'].values\n",
    "y=np.swapaxes(y,1,0)\n",
    "\n",
    "breakpoint()\n",
    "model=initialize_model(x.shape[1:])\n",
    "model.fit(x, y, batch_size=32, epochs=100, validation_split=0.2)"
   ]
  }
 ],
 "metadata": {
  "kernelspec": {
   "display_name": "Python 3 (ipykernel)",
   "language": "python",
   "name": "python3"
  },
  "language_info": {
   "codemirror_mode": {
    "name": "ipython",
    "version": 3
   },
   "file_extension": ".py",
   "mimetype": "text/x-python",
   "name": "python",
   "nbconvert_exporter": "python",
   "pygments_lexer": "ipython3",
   "version": "3.10.12"
  }
 },
 "nbformat": 4,
 "nbformat_minor": 5
}
